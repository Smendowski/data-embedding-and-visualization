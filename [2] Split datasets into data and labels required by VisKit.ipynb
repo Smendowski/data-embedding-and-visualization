{
 "cells": [
  {
   "cell_type": "code",
   "execution_count": 2,
   "metadata": {},
   "outputs": [],
   "source": [
    "from pathlib import Path\n",
    "import pandas as pd"
   ]
  },
  {
   "cell_type": "code",
   "execution_count": 11,
   "metadata": {},
   "outputs": [],
   "source": [
    "datasets_with_labels_path = Path('./datasets_with_labels')\n",
    "datasets_path = Path('./datasets')\n",
    "labels_path = Path('./labels')"
   ]
  },
  {
   "cell_type": "code",
   "execution_count": 12,
   "metadata": {},
   "outputs": [],
   "source": [
    "df_mnist = pd.read_csv(\n",
    "    datasets_with_labels_path.joinpath('mnist.csv'), header=None)\n",
    "\n",
    "df_reuters = pd.read_csv(\n",
    "    datasets_with_labels_path.joinpath('reuters_reduced.csv'), header=None)\n",
    "\n",
    "df_tng = pd.read_csv(\n",
    "    datasets_with_labels_path.joinpath('tng.csv'), header=None)"
   ]
  },
  {
   "cell_type": "markdown",
   "metadata": {},
   "source": [
    "### Mnist"
   ]
  },
  {
   "cell_type": "code",
   "execution_count": 25,
   "metadata": {},
   "outputs": [],
   "source": [
    "print(df_mnist.dtypes.unique())\n",
    "df_mnist = df_mnist.astype('uint8')\n",
    "\n",
    "df_mnist.iloc[:, -1].to_csv(labels_path.joinpath('mnist_labels.csv'), header=False, index=False)\n",
    "df_mnist.iloc[:, :-1].to_csv(datasets_path.joinpath('mnist_data.csv'), header=False, index=False)"
   ]
  },
  {
   "cell_type": "markdown",
   "metadata": {},
   "source": [
    "### Reuters"
   ]
  },
  {
   "cell_type": "code",
   "execution_count": 29,
   "metadata": {},
   "outputs": [
    {
     "name": "stdout",
     "output_type": "stream",
     "text": [
      "[dtype('float64') dtype('int64')]\n",
      "[dtype('float64')]\n"
     ]
    }
   ],
   "source": [
    "print(df_reuters.dtypes.unique())\n",
    "print(df_reuters.iloc[:, :-1].dtypes.unique())\n",
    "\n",
    "df_reuters.iloc[:, -1].astype('uint8').to_csv(\n",
    "    labels_path.joinpath('reuters_labels.csv'), header=False, index=False)\n",
    "df_reuters.iloc[:, :-1].astype('float32').to_csv(\n",
    "    datasets_path.joinpath('reuters_data.csv'), header=False, index=False)"
   ]
  },
  {
   "cell_type": "markdown",
   "metadata": {},
   "source": [
    "### 20NG"
   ]
  },
  {
   "cell_type": "code",
   "execution_count": 32,
   "metadata": {},
   "outputs": [
    {
     "name": "stdout",
     "output_type": "stream",
     "text": [
      "[dtype('float64') dtype('int64')]\n",
      "[dtype('float64')]\n"
     ]
    }
   ],
   "source": [
    "print(df_tng.dtypes.unique())\n",
    "print(df_tng.iloc[:, :-1].dtypes.unique())\n",
    "\n",
    "df_tng.iloc[:, -1].astype('uint8').to_csv(\n",
    "    labels_path.joinpath('tng_labels.csv'), header=False, index=False)\n",
    "df_tng.iloc[:, :-1].astype('float32').to_csv(\n",
    "    datasets_path.joinpath('tng_data.csv'), header=False, index=False)"
   ]
  }
 ],
 "metadata": {
  "kernelspec": {
   "display_name": "Python 3",
   "language": "python",
   "name": "python3"
  },
  "language_info": {
   "codemirror_mode": {
    "name": "ipython",
    "version": 3
   },
   "file_extension": ".py",
   "mimetype": "text/x-python",
   "name": "python",
   "nbconvert_exporter": "python",
   "pygments_lexer": "ipython3",
   "version": "3.9.2"
  },
  "orig_nbformat": 4
 },
 "nbformat": 4,
 "nbformat_minor": 2
}
